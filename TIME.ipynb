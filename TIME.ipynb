{
 "metadata": {
  "name": ""
 },
 "nbformat": 3,
 "nbformat_minor": 0,
 "worksheets": [
  {
   "cells": [
    {
     "cell_type": "heading",
     "level": 1,
     "metadata": {},
     "source": [
      "Predicting TIME's Person of the Year"
     ]
    },
    {
     "cell_type": "heading",
     "level": 2,
     "metadata": {},
     "source": [
      "Folgert Karsdorp, Antal van den Bosch, Walter Daelemans, Dan Roth & Mike Kestemont"
     ]
    },
    {
     "cell_type": "heading",
     "level": 5,
     "metadata": {},
     "source": [
      "Introduction"
     ]
    },
    {
     "cell_type": "markdown",
     "metadata": {},
     "source": [
      "<img title=\"created by Stef Gibson at StefGibson.com\"style=\"float: right;margin-left: 25px; margin-top: 15px;\" src=\"http://img.timeinc.net/time/magazine/archive/covers/2008/1101081229_400.jpg?w=360\" align=right height = 390 />An attention-attention feature of TIME\u2019s publication history in the twentieth century has been the election of the so-called 'Person of the Year', an annual cover story which profiled an influential individual who, in the magazine's own words 'for better or for worse [...] has done the most to influence the events of the year'. The 'Person of the Year' has been annually elected since 1927, when the trans-Atlantic aviator Charles Lindbergh was elected. On many occasions, the title has been also given to groups of individuals (e.g. \u2018The American Soldier\u2019 in 2003) or even to an inanimate object rather than a person (e.g. 'The Computer' in 1982). Contrary to popular belief, the title is not necessarily awarded on the basis of an individual's virtues or positive achievements (TIME 2002, pp. 2, 79), since it has also been 'awarded' to extremely controversial figures in the past, such as Adolf Hitler in 1938 or Ayatollah Khomeini in 1979. "
     ]
    },
    {
     "cell_type": "heading",
     "level": 5,
     "metadata": {},
     "source": [
      "Setup"
     ]
    },
    {
     "cell_type": "markdown",
     "metadata": {},
     "source": [
      "This iPython notebook provides the details for our experiments of TIME's person of the year. We will describe the basic setup of the experiments, show which process of feature selection we used and all other necessary steps to arrive at our predictions.\n",
      "Who were selected as person of the year (POY) in TIME Magazine?"
     ]
    },
    {
     "cell_type": "code",
     "collapsed": false,
     "input": [
      "POY = {\n",
      " 1927: ['charles_lindbergh'],\n",
      " 1928: ['walter_chrysler'],\n",
      " 1929: ['owen_d._young'],\n",
      " 1930: ['mohandas_karamchand_gandhi'],\n",
      " 1931: ['pierre_laval'],\n",
      " 1932: ['franklin_d._roosevelt'],\n",
      " 1933: ['hugh_samuel_johnson'],\n",
      " 1934: ['franklin_d._roosevelt'],\n",
      " 1935: ['haile_selassie_i'],\n",
      " 1936: ['wallis_simpson,_duchess_of_windsor'],\n",
      " 1937: ['chiang_kai-shek', 'soong_may-ling'],\n",
      " 1938: ['adolf_hitler'],\n",
      " 1939: ['joseph_stalin'],\n",
      " 1940: ['winston_churchill'],\n",
      " 1941: ['franklin_d._roosevelt'],\n",
      " 1942: ['joseph_stalin'],\n",
      " 1943: ['george_marshall'],\n",
      " 1944: ['dwight_d._eisenhower'],\n",
      " 1945: ['harry_s._truman'],\n",
      " 1946: ['james_f._byrnes'],\n",
      " 1947: ['george_marshall'],\n",
      " 1948: ['harry_s._truman'],\n",
      " 1949: ['winston_churchill'],\n",
      " 1951: ['mohammad_mosaddegh'],\n",
      " 1952: ['elizabeth_ii'],\n",
      " 1953: ['konrad_adenauer'],\n",
      " 1954: ['john_foster_dulles'],\n",
      " 1955: ['harlow_curtice'],\n",
      " 1957: ['nikita_khrushchev'],\n",
      " 1958: ['charles_de_gaulle'],\n",
      " 1959: ['dwight_d._eisenhower'],\n",
      " 1960: ['george_wells_beadle', 'charles_stark_draper', 'john_franklin_enders',\n",
      "        'donald_a._glaser', 'joshua_lederberg', 'willard_libby', 'linus_pauling',\n",
      "        'edward_mills_purcell', 'isidor_isaac_rabi', 'emilio_g._segr\\xc3\\xa8',\n",
      "        'william_shockley', 'edward_teller', 'charles_hard_townes', 'james_van_allen',\n",
      "        'robert_burns_woodward'],\n",
      " 1961: ['john_f._kennedy'],\n",
      " 1962: ['pope_john_xxiii'],\n",
      " 1963: ['martin_luther_king'],\n",
      " 1964: ['lyndon_b._johnson'],\n",
      " 1965: ['william_westmoreland'],\n",
      " 1967: ['lyndon_b._johnson'],\n",
      " 1968: ['william_anders', 'frank_borman', 'jim_lovell'],\n",
      " 1970: ['willy_brandt'],\n",
      " 1971: ['richard_nixon'],\n",
      " 1972: ['henry_kissinger', 'richard_nixon'],\n",
      " 1973: ['john_sirica'],\n",
      " 1974: ['faisal_of_saudi_arabia'],\n",
      " 1975: ['susan_brownmiller', 'kathleen_byerly', 'alison_cheek', 'jill_ker_conway',\n",
      "        'betty_ford', 'ella_t._grasso', 'carla_anderson_hills', 'barbara_jordan',\n",
      "        'billie_jean_king', 'carol_sutton', 'susie_sharp', 'addie_l._wyatt'],\n",
      " 1976: ['jimmy_carter'],\n",
      " 1977: ['anwar_el_sadat'],\n",
      " 1978: ['deng_xiaoping'],\n",
      " 1979: ['ruhollah_khomeini'],\n",
      " 1980: ['ronald_reagan'],\n",
      " 1981: ['lech_wa\\xc5\\x82\\xc4\\x99sa'],\n",
      " 1983: ['yuri_andropov'],\n",
      " 1984: ['peter_ueberroth'],\n",
      " 1985: ['deng_xiaoping'],\n",
      " 1986: ['corazon_aquino'],\n",
      " 1987: ['mikhail_gorbachev'],\n",
      " 1989: ['mikhail_gorbachev'],\n",
      " 1990: ['george_h._w._bush'],\n",
      " 1991: ['ted_turner'],\n",
      " 1992: ['bill_clinton'],\n",
      " 1993: ['yasser_arafat', 'frederik_willem_de_klerk', 'nelson_mandela', 'yitzhak_rabin'],\n",
      " 1994: ['pope_john_paul_ii'],\n",
      " 1995: ['newt_gingrich'],\n",
      " 1996: ['david_ho_(scientist)'],\n",
      " 1997: ['andrew_grove'],\n",
      " 1998: ['ken_starr'],\n",
      " 1999: ['jeff_bezos'],\n",
      " 2000: ['george_w._bush'],\n",
      " 2001: ['rudy_giuliani'],\n",
      " 2002: ['cynthia_cooper', 'coleen_rowley', 'sherron_watkins'],\n",
      " 2004: ['george_w._bush'],\n",
      " 2005: ['bono', 'bill_gates', 'melinda_gates'],\n",
      " 2007: ['vladimir_putin'],\n",
      " 2008: ['barack_obama'],\n",
      " 2009: ['ben_bernanke'],\n",
      " 2010: ['mark_zuckerberg'],\n",
      " 2012: ['barack_obama'],\n",
      " 2013: ['pope_francis']}"
     ],
     "language": "python",
     "metadata": {},
     "outputs": [],
     "prompt_number": 197
    },
    {
     "cell_type": "code",
     "collapsed": false,
     "input": [
      "PERSONS_OF_THE_YEAR = set(person for persons in POY.values() for person in persons)"
     ],
     "language": "python",
     "metadata": {},
     "outputs": [],
     "prompt_number": 198
    },
    {
     "cell_type": "markdown",
     "metadata": {},
     "source": [
      "The complete volumne of TIME magazine was processed using the wikifier that has been described in Ratinov _et al._ (2011) (see http://cogcomp.cs.illinois.edu/page/demo_view/Wikifier). We constructed an index of the corpus using Whoosh (http://whoosh.readthedocs.org). The index has the following schema:"
     ]
    },
    {
     "cell_type": "code",
     "collapsed": false,
     "input": [
      "from whoosh.fields import Schema, TEXT, KEYWORD, ID, DATETIME\n",
      "from whoosh.analysis import SimpleAnalyzer\n",
      "\n",
      "SCHEMA = Schema(\n",
      "    id       = ID(stored=True), # whoosh internal file id\n",
      "    path     = ID(stored=True), # the path to the file\n",
      "    title    = TEXT(stored=True, analyzer = SimpleAnalyzer()), # the title of the article\n",
      "    category = ID(stored=True), # the category of the article as provided by TIME\n",
      "    content  = TEXT(analyzer = SimpleAnalyzer()), # the text\n",
      "    date     = DATETIME(stored=True), # the date of publishment\n",
      "    names    = KEYWORD(stored=True, lowercase=True, commas=True), # the wikified persons\n",
      "    keywords = KEYWORD(stored=True, lowercase=True, commas=True)) # other wikified entities"
     ],
     "language": "python",
     "metadata": {},
     "outputs": [],
     "prompt_number": 3
    },
    {
     "cell_type": "markdown",
     "metadata": {},
     "source": [
      "We open the index using the following python code:"
     ]
    },
    {
     "cell_type": "code",
     "collapsed": false,
     "input": [
      "from whoosh import index\n",
      "\n",
      "ix = index.open_dir('TimeIndex/', indexname=\"TIMEIndex\")"
     ],
     "language": "python",
     "metadata": {},
     "outputs": [],
     "prompt_number": 4
    },
    {
     "cell_type": "markdown",
     "metadata": {},
     "source": [
      "For each wikified person we extracted his or her date of birth and (if applicable) date of death from http://dbpedia.org/. We exclude all persons from our experiments that died before the year 1900."
     ]
    },
    {
     "cell_type": "code",
     "collapsed": false,
     "input": [
      "from datetime import datetime\n",
      "import cPickle\n",
      "\n",
      "with open(\"dates.pickle\") as dates:\n",
      "    DATES = cPickle.load(dates)\n",
      "    \n",
      "def to_old(person, year=None):\n",
      "    \"Return True if PERSON died before 1900. OR if specified, died before YEAR.\"\n",
      "    if person in DATES:\n",
      "        birth, death = DATES[person]\n",
      "        if year is not None:\n",
      "            date = datetime(year, 1, 1)\n",
      "            if birth and isinstance(birth, datetime) and birth <= date:\n",
      "                if not death or (isinstance(death, datetime) and death >= date):\n",
      "                    return False\n",
      "        if birth and isinstance(birth, datetime) and birth <= datetime(2014, 1, 1):\n",
      "            if not death or (isinstance(death, datetime) and death >= datetime(1900, 1, 1)):\n",
      "                return False\n",
      "    return True\n",
      "\n",
      "WIKIFIED_PERSONS = set()\n",
      "with ix.reader() as reader:\n",
      "    for name, term in reader.iter_field(\"names\"):\n",
      "        WIKIFIED_PERSONS.add(name)\n",
      "\n",
      "def include_anyway(person):\n",
      "    \"Return True if PERSON in PERSONS_OF_THE_YEAR.\"\n",
      "    return person in PERSONS_OF_THE_YEAR and person in WIKIFIED_PERSONS"
     ],
     "language": "python",
     "metadata": {},
     "outputs": [],
     "prompt_number": 110
    },
    {
     "cell_type": "markdown",
     "metadata": {},
     "source": [
      "Before we will describe our experiments in more detail, let's first have a look at some basic frequency plots of a couple of POYs. For this we first need to import some important libraries used throughout this notebook, especially the pandas library (see http://pandas.pydata.org)."
     ]
    },
    {
     "cell_type": "code",
     "collapsed": false,
     "input": [
      "import pandas as pd\n",
      "\n",
      "from ggplot import *\n",
      "\n",
      "from whoosh import qparser\n",
      "from whoosh.qparser.dateparse import DateParserPlugin\n",
      "from whoosh import sorting\n",
      "\n",
      "def issues_in(year):\n",
      "    \"Return all issues publised in YEAR.\"\n",
      "    names = sorting.FieldFacet(\"names\", allow_overlap=True)\n",
      "    searcher = ix.searcher()\n",
      "    parser = qparser.QueryParser(\"content\", ix.schema)\n",
      "    parser.add_plugin(DateParserPlugin())\n",
      "    query = parser.parse(\"date:%s\" % year)\n",
      "    return searcher.search(query, groupedby=names, limit=None), searcher\n",
      "\n",
      "def to_DatetimeIndex(docs):\n",
      "    \"Transform the dates of a document collection to a pandas DatetimeIndex.\"\n",
      "    return pd.DatetimeIndex(set(doc['date'] for doc in docs))\n",
      "\n",
      "def occurrences_in_docs(docs, person, searcher):\n",
      "    \"Return all docs in DOCS where PERSON if found.\"\n",
      "    parser = qparser.QueryParser(\"content\", ix.schema)\n",
      "    parser.add_plugin(DateParserPlugin())\n",
      "    query = parser.parse(\"names:%s\" % person)\n",
      "    return searcher.search(query, filter=docs, limit=None)\n",
      "\n",
      "def to_annual_timeline(year, person):\n",
      "    \"Return all dates in a YEAR where PERSON is found.\"\n",
      "    docs, searcher = ISSUES_IN[year]\n",
      "    issue_index = to_DatetimeIndex(docs)\n",
      "    person_index = pd.DatetimeIndex(\n",
      "        doc['date'] for doc in occurrences_in_docs(docs, person, searcher))\n",
      "    serie = pd.Series([1] * person_index.size, index=person_index).groupby(\n",
      "               lambda x: datetime(x.year, x.month, x.day)).sum()\n",
      "    return serie.reindex(issue_index, fill_value=0)"
     ],
     "language": "python",
     "metadata": {},
     "outputs": [],
     "prompt_number": 6
    },
    {
     "cell_type": "code",
     "collapsed": false,
     "input": [
      "ISSUES_IN = {year: issues_in(year) for year in POY}"
     ],
     "language": "python",
     "metadata": {},
     "outputs": [],
     "prompt_number": 7
    },
    {
     "cell_type": "code",
     "collapsed": false,
     "input": [
      "to_annual_timeline(1940, \"winston_churchill\").plot()"
     ],
     "language": "python",
     "metadata": {},
     "outputs": [
      {
       "metadata": {},
       "output_type": "pyout",
       "prompt_number": 110,
       "text": [
        "<matplotlib.axes.AxesSubplot at 0x10a1f610>"
       ]
      },
      {
       "metadata": {},
       "output_type": "display_data",
       "png": "[encoded data removed]",
       "text": [
        "<matplotlib.figure.Figure at 0x39ee910>"
       ]
      }
     ],
     "prompt_number": 110
    },
    {
     "cell_type": "code",
     "collapsed": false,
     "input": [
      "to_annual_timeline(1990, 'george_h._w._bush').plot()"
     ],
     "language": "python",
     "metadata": {},
     "outputs": [
      {
       "metadata": {},
       "output_type": "pyout",
       "prompt_number": 111,
       "text": [
        "<matplotlib.axes.AxesSubplot at 0x29521310>"
       ]
      },
      {
       "metadata": {},
       "output_type": "display_data",
       "png": "[encoded data removed]",
       "text": [
        "<matplotlib.figure.Figure at 0x10a48590>"
       ]
      }
     ],
     "prompt_number": 111
    },
    {
     "cell_type": "code",
     "collapsed": false,
     "input": [
      "to_annual_timeline(1976, 'jimmy_carter').plot()"
     ],
     "language": "python",
     "metadata": {},
     "outputs": [
      {
       "metadata": {},
       "output_type": "pyout",
       "prompt_number": 112,
       "text": [
        "<matplotlib.axes.AxesSubplot at 0x295279d0>"
       ]
      },
      {
       "metadata": {},
       "output_type": "display_data",
       "png": "[encoded data removed]",
       "text": [
        "<matplotlib.figure.Figure at 0x2a3da550>"
       ]
      }
     ],
     "prompt_number": 112
    },
    {
     "cell_type": "markdown",
     "metadata": {},
     "source": [
      "We cast the problem of predicting the person of the year as a ranking problem. Given a year of articles from TIME magazine, the system should return a ranking of all persons mentioned in that year where the goal is to assign the person of the year to the highest rank. It feels natural to approach our problem as a ranking problem because of the similarity to the yearly pre-rankings published in advance of the actual election. Moreover, when the system does not place the person of a particular year at the highest rank, it is still interesting to see where that person resides in the final ranking. \n",
      "\n",
      "We evaluate our approach by means of _Mean Average Precision_:\n",
      "\n",
      "$$ \\textrm{MAP} = \\sum_{q=1} \\textrm{AP(q)} $$\n",
      "\n",
      "where AP(q) is defined as:\n",
      "\n",
      "$$ \\textrm{AP(q)} = \\frac{\\sum^n_{k=1} (P(k) \\times rel(k))}{\\textrm{number of relevant documents}} $$\n",
      "\n",
      "where $k$ is the position in the ranked list of $n$ retrieved documents. $P(k)$ represents the precision at $k$ and $rel(k)=1$ if the item at $k$ is relevant, $rel(k)=0$ otherwise. We furthermore evaluate our system by means of the fraction of persons ranked in the top 10 of a given year as well a the fraction of persons ranked in the top 5.\n",
      "\n"
     ]
    },
    {
     "cell_type": "code",
     "collapsed": false,
     "input": [
      "def average_precision(predictions, references):\n",
      "    if not isinstance(references, set):\n",
      "    \treferences = set(references)\n",
      "    total, num_correct = 0.0, 0.0\n",
      "    for k, prediction in enumerate(predictions):\n",
      "        if prediction in references:\n",
      "            num_correct += 1\n",
      "            p = float(num_correct / float(k + 1))\n",
      "            total += p\n",
      "    return total / num_correct if total > 0 else 0.0"
     ],
     "language": "python",
     "metadata": {},
     "outputs": [],
     "prompt_number": 10
    },
    {
     "cell_type": "markdown",
     "metadata": {},
     "source": [
      "We use Sofia-ml as our ranking system (see https://code.google.com/p/sofia-ml/)"
     ]
    },
    {
     "cell_type": "heading",
     "level": 5,
     "metadata": {},
     "source": [
      "Baseline"
     ]
    },
    {
     "cell_type": "markdown",
     "metadata": {},
     "source": [
      "As a simple baseline for our approach we take the document frequency of all persons mentioned in a single year and rank them as a function of their document frequency (in descending order, naturally)."
     ]
    },
    {
     "cell_type": "code",
     "collapsed": false,
     "input": [
      "from collections import defaultdict\n",
      "\n",
      "def run(year):\n",
      "    counters = defaultdict(int)\n",
      "    documents, searcher = ISSUES_IN[year]\n",
      "    issue_dates = set(doc['date'] for doc in documents)\n",
      "    # iterate over all persons and the documents they are mentioned in of this year\n",
      "    for person, documents in documents.groups().iteritems():\n",
      "        if not to_old(person) or include_anyway(person):\n",
      "            counters[person] = len(documents)\n",
      "    return (year, counters)\n",
      "\n",
      "results = [run(year) for year in sorted(POY)]"
     ],
     "language": "python",
     "metadata": {},
     "outputs": [
      {
       "output_type": "stream",
       "stream": "stdout",
       "text": [
        "\n"
       ]
      }
     ],
     "prompt_number": 13
    },
    {
     "cell_type": "code",
     "collapsed": false,
     "input": [
      "def in_top(year, persons, n):\n",
      "    return any([person in POY[year] for person in persons[:n]])\n",
      "\n",
      "scores_fd = []\n",
      "for year, persons in results:\n",
      "    # sort the persons in descending order\n",
      "    persons = sorted(persons, key=persons.__getitem__, reverse=True)\n",
      "    ap = average_precision(persons, POY[year])\n",
      "    scores_fd.append((year, ap, \n",
      "                   1.0 if in_top(year, persons, 10) else 0,\n",
      "                   1.0 if in_top(year, persons, 5) else 0,\n",
      "                   1.0 if in_top(year, persons, 1) else 0))\n",
      "print 'MAP   ', sum(ap for _, ap, _, _, _ in scores_fd) / len(scores_fd)\n",
      "print 'TOP 10', sum(top10 for _, _, top10, _, _ in scores_fd) / len(scores_fd)\n",
      "print 'TOP  5', sum(top5 for _, _, _, top5, _ in scores_fd) / len(scores_fd)\n",
      "print 'TOP  1', sum(top1 for _, _, _, _, top1 in scores_fd) / len(scores_fd)"
     ],
     "language": "python",
     "metadata": {},
     "outputs": [
      {
       "output_type": "stream",
       "stream": "stdout",
       "text": [
        "MAP    0.279834691803\n",
        "TOP 10 0.493506493506\n",
        "TOP  5 0.428571428571\n",
        "TOP  1 0.168831168831\n"
       ]
      }
     ],
     "prompt_number": 229
    },
    {
     "cell_type": "code",
     "collapsed": false,
     "input": [
      "years, aps, _, _, _ = zip(*scores_fd)\n",
      "score_serie = pd.Series(aps, index=map(lambda year: datetime(year, 1, 1), years))\n",
      "score_serie.plot(style='d', ylim=(-0.1, 1.1))"
     ],
     "language": "python",
     "metadata": {},
     "outputs": [
      {
       "metadata": {},
       "output_type": "pyout",
       "prompt_number": 230,
       "text": [
        "<matplotlib.axes.AxesSubplot at 0x38597810>"
       ]
      },
      {
       "metadata": {},
       "output_type": "display_data",
       "png": "[encoded data removed]",
       "text": [
        "<matplotlib.figure.Figure at 0x385a6590>"
       ]
      }
     ],
     "prompt_number": 230
    },
    {
     "cell_type": "heading",
     "level": 5,
     "metadata": {},
     "source": [
      "Learning to Rank"
     ]
    },
    {
     "cell_type": "markdown",
     "metadata": {},
     "source": [
      "In this section we aim to improve this simple baseline by incorporating a range of features  in a Learning to Rank experiment. We use the sofia-ml toolkit with the SVM-SGD learning algorithm and $\\lambda=1e-7$ (This value was optimized using a simple grid search on the validation data). We take the following steps.\n",
      "\n",
      "- Retrieve an initial ranking of persons based on their document frequency in a given year.\n",
      "- Apply Learning to Rank to rerank the top 100 candidates."
     ]
    },
    {
     "cell_type": "code",
     "collapsed": false,
     "input": [
      "import subprocess\n",
      "\n",
      "def train_sofia(trainingfile, modelfile, shrinkage):\n",
      "    x = subprocess.call(\n",
      "            \"sofia-ml/sofia-ml --learner_type sgd-svm --loop_type rank --lambda \" + \n",
      "            str(shrinkage) + \" --prediction_type linear --dimensionality 30 \" +  \n",
      "            \"--training_file \" + trainingfile +  \" --model_out \" + \n",
      "            modelfile + \" --random_seed 1\", stderr=subprocess.STDOUT, shell=True)\n",
      "\n",
      "def test_sofia(testfile, model, resultsfile):\n",
      "    x = subprocess.call(\n",
      "            \"sofia-ml/sofia-ml --model_in \" + model + \" --test_file \" + \n",
      "            testfile +  \" --results_file \" + resultsfile + \" --random_seed 1\", \n",
      "            shell=True, stderr=subprocess.STDOUT)\n",
      "\n",
      "def compute_scores(resultsfile, testfile):\n",
      "    persons = [line.strip().split('#')[1] for line in open(testfile)]\n",
      "    scores = []\n",
      "    for i, line in enumerate(open(resultsfile)):\n",
      "        score, prediction = line.strip().split(\"\\t\")\n",
      "        if score != \"nan\":\n",
      "            scores.append((i, float(score), prediction, persons[i]))\n",
      "    scores.sort(key=lambda i: i[1], reverse=True)\n",
      "    top1, top5, top10 = 0.0, 0.0, 0.0\n",
      "    total, num_correct = 0.0, 0.0\n",
      "    for k, (_, _, prediction, _) in enumerate(scores):\n",
      "        if prediction == '1':\n",
      "            num_correct += 1\n",
      "            total += num_correct / (k + 1)\n",
      "            if (k + 1) ==  1:\n",
      "                top1 = 1.0\n",
      "            if (k + 1) <= 5:\n",
      "                top5 = 1.0\n",
      "            if (k + 1) <= 10:\n",
      "                top10 = 1.0\n",
      "            break # we only need the first hit\n",
      "    print '\\n'.join('%s: %s %s' % (i, person, \"*\" if pred == '1' else '') for i, (_, _, pred, person) in enumerate(scores[:10], 1))\n",
      "    return total / num_correct if total > 0 else 0.0, top10, top5, top1"
     ],
     "language": "python",
     "metadata": {},
     "outputs": [],
     "prompt_number": 225
    },
    {
     "cell_type": "heading",
     "level": 5,
     "metadata": {},
     "source": [
      "Features"
     ]
    },
    {
     "cell_type": "heading",
     "level": 4,
     "metadata": {},
     "source": [
      "I Frequency Features"
     ]
    },
    {
     "cell_type": "markdown",
     "metadata": {},
     "source": [
      "- Document frequency of person Y in year X;\n",
      "- Maximal span: in how many issues in a row has person Y appeared in year X?\n",
      "- Number of topics: in how many different topics does person Y occur in year X? (topics are represented by the category labels of the articles as given by TIME Magazine);\n",
      "- Variation over topics. Take the variation coeeficient over the topics (the coefficient of variation, the ratio of the biased standard deviation to the mean)\n",
      "- the relative frequency increase of person Y in year X with respect to year X-1\n",
      "- distinctiveness in TF*IDF"
     ]
    },
    {
     "cell_type": "code",
     "collapsed": false,
     "input": [
      "from scipy.stats import variation\n",
      "\n",
      "def topic_variation(topics):\n",
      "    return variation(topics)\n",
      "\n",
      "def nonzero_time_spans(timeserie, threshold=1):\n",
      "    \"Return the length of all continuous timespans in TIMESERIE.\"\n",
      "    n_cons_years = []\n",
      "    prev_year = 0\n",
      "    for freq in timeserie:\n",
      "        if freq > threshold:\n",
      "            if prev_year == 0:\n",
      "                n_cons_years.append(0)\n",
      "            else:\n",
      "                n_cons_years[-1] += 1\n",
      "            prev_year = 1\n",
      "        else:\n",
      "            prev_year = 0\n",
      "    return n_cons_years\n",
      "\n",
      "def longest_time_span(timeserie, threshold=1):\n",
      "    \"Return the longest continuous timespan in TIMESERIE.\"\n",
      "    return max(nonzero_time_spans(timeserie, threshold))\n",
      "\n",
      "def frequency_increase(year, person, frequency_current):\n",
      "    \"Return the relative frequency increase with respect to last year.\"\n",
      "    if year-1 not in ISSUES_IN: return 0.0\n",
      "    documents, searcher = ISSUES_IN[year-1]\n",
      "    try:\n",
      "        return float(frequency_current) / len(documents.groups()['person'])\n",
      "    except (ZeroDivisionError, KeyError):\n",
      "        return float(frequency_current)\n",
      "    \n",
      "def probability_of_occurence(person, year):\n",
      "    documents, searcher = ISSUES_IN[year]\n",
      "    date_index = pd.DatetimeIndex(set(document['date'] for document in documents))\n",
      "    ts = timeline([searcher.stored_fields(doc)['date'] for doc in articles], date_index)\n",
      "    # TODO finish"
     ],
     "language": "python",
     "metadata": {},
     "outputs": [],
     "prompt_number": 71
    },
    {
     "cell_type": "heading",
     "level": 4,
     "metadata": {},
     "source": [
      "II Similarity Based Features"
     ]
    },
    {
     "cell_type": "markdown",
     "metadata": {},
     "source": [
      "- Year-similarity: What is the cosine similarity between a person Y and a year X (using hidden layers in word2vec))?\n",
      "- What is the cosine similarity between this person and previous persons of the year?\n",
      "- What is the cosine similarity between this person and the previous person of the year?"
     ]
    },
    {
     "cell_type": "code",
     "collapsed": false,
     "input": [
      "from gensim.models import word2vec\n",
      "\n",
      "MODEL = word2vec.Word2Vec.load_word2vec_format(\n",
      "    \"/vol/tensusers/fkarsdorp/time-full.bin\", binary=True)"
     ],
     "language": "python",
     "metadata": {},
     "outputs": [],
     "prompt_number": 64
    },
    {
     "cell_type": "code",
     "collapsed": false,
     "input": [
      "from numpy import dot, float32 as REAL, vstack\n",
      "from gensim import matutils\n",
      "\n",
      "def year_similarity(person, year):\n",
      "    \"Return the similarity between PERSON and YEAR.\"\n",
      "    if not isinstance(year, basestring):\n",
      "        year = str(year)\n",
      "    return MODEL.similarity(year, person) if person in MODEL.vocab else 0.0\n",
      "\n",
      "def previous_POY(year):\n",
      "    \"Yield the Perons of the year before YEAR.\"\n",
      "    if isinstance(year, basestring):\n",
      "        year = int(year)\n",
      "    for previous_year, persons in sorted(POY.items(), reverse=True):\n",
      "        if previous_year < year:\n",
      "            yield persons\n",
      "\n",
      "def similarity_with_POYs(person, year):\n",
      "    \"Return the cosine similarity between PERSON and all previous POYs.\"\n",
      "    if person not in MODEL.vocab:\n",
      "        return 0.0\n",
      "    poys = [p for persons in previous_POY(year) for p in persons if p in MODEL.vocab] \n",
      "    poys.append(person)\n",
      "    vectors = vstack(\n",
      "        matutils.unitvec(MODEL.syn0[MODEL.vocab[p].index]) for p in poys).astype(REAL)\n",
      "    mean = matutils.unitvec(vectors.mean(axis=0)).astype(REAL)\n",
      "    dists = dot(vectors, mean)\n",
      "    return next(dist for dist, p in zip(dists, poys) if p == person)\n",
      "\n",
      "def similarity_with_previous_POY(person, year):\n",
      "    \"\"\"Return the cosine similarity between PERSON and the \n",
      "    person(s) in the previous year.\"\"\"\n",
      "    if person not in MODEL.vocab:\n",
      "        return 0.0\n",
      "    try:\n",
      "        return max([MODEL.similarity(person, p) if p in MODEL.vocab else 0.0 \n",
      "                    for poys in previous_POY(year) for p in poys])\n",
      "    except (ValueError, StopIteration):\n",
      "        return 0.0\n",
      "    \n",
      "def correlation(timeline, current_year):\n",
      "    try:\n",
      "        target_year = next(year for year in sorted(POY) if year < current_year)\n",
      "        documents, _ = ISSUES_IN[target_year]\n",
      "        timeline_poy = timeline(\n",
      "            [doc['date'] for doc in documents.groups()[POY[target_year][0]]])\n",
      "        return timeline.corr(timeline_poy)\n",
      "    except StopIteration:\n",
      "        return 0.0"
     ],
     "language": "python",
     "metadata": {},
     "outputs": [],
     "prompt_number": 117
    },
    {
     "cell_type": "heading",
     "level": 4,
     "metadata": {},
     "source": [
      "III Boolean Features"
     ]
    },
    {
     "cell_type": "markdown",
     "metadata": {},
     "source": [
      "- (1/0) Has the person been POY before?\n",
      "- (1/0) Was this person POY, last year?"
     ]
    },
    {
     "cell_type": "code",
     "collapsed": false,
     "input": [
      "def POY_before(person, year):\n",
      "    \"Return True if person has been POY before.\"\n",
      "    for persons in previous_POY(year):\n",
      "        for poy in persons:\n",
      "            if poy == person:\n",
      "                return 1\n",
      "    return 0\n",
      "\n",
      "def POY_last_year(person, year):\n",
      "    \"Return True if PERSON was POY last year.\"\n",
      "    try:\n",
      "        last_poys = next(previous_POY(year))\n",
      "        for poy in last_poys:\n",
      "            if poy == person:\n",
      "                return 1\n",
      "        return 0\n",
      "    except StopIteration:\n",
      "        return 0"
     ],
     "language": "python",
     "metadata": {},
     "outputs": [],
     "prompt_number": 66
    },
    {
     "cell_type": "heading",
     "level": 4,
     "metadata": {},
     "source": [
      "IV Network based features"
     ]
    },
    {
     "cell_type": "markdown",
     "metadata": {},
     "source": [
      "- Pagerank position of person Y in year X.\n",
      "- Network distance between person Y and POY in year X-1"
     ]
    },
    {
     "cell_type": "code",
     "collapsed": true,
     "input": [
      "from joblib import Memory\n",
      "from itertools import combinations\n",
      "import networkx as nx\n",
      "\n",
      "memory = Memory(cachedir='/vol/tensusers/fkarsdorp/tmp', verbose=0)\n",
      "\n",
      "PAGERANK = {}\n",
      "\n",
      "@memory.cache\n",
      "def compute_pagerank(year):\n",
      "    print 'Computing Pagerank for %s' % year\n",
      "    graph = nx.Graph()\n",
      "    documents, searcher = ISSUES_IN[year]\n",
      "    for document in documents:\n",
      "        persons = [person for person in document['names'].lower().split(',') \n",
      "                   if not to_old(person)]\n",
      "        for a, b in combinations(persons, 2):\n",
      "            if graph.has_edge(a, b):\n",
      "                graph[a][b]['weight'] += 1\n",
      "            else:\n",
      "                graph.add_edge(a, b, weight=1.0)\n",
      "    return nx.pagerank_numpy(graph)\n",
      "\n",
      "for year in POY:\n",
      "    PAGERANK[year] = compute_pagerank(year)"
     ],
     "language": "python",
     "metadata": {},
     "outputs": [
      {
       "output_type": "stream",
       "stream": "stdout",
       "text": [
        "Computing Pagerank for 2013\n"
       ]
      }
     ],
     "prompt_number": 199
    },
    {
     "cell_type": "markdown",
     "metadata": {},
     "source": [
      "For each year we compute all the features for each person and add to that the feature values for these persons in the previous year. This gives us a total of 18 features. We extract them, using the following functions."
     ]
    },
    {
     "cell_type": "code",
     "collapsed": false,
     "input": [
      "from collections import Counter\n",
      "\n",
      "FEATURES = ['max-span', 'frequency', 'topic-frequency', 'frequency-burst', 'topic-variance',\n",
      "            'POY-last-year', 'POY-before', 'year-similarity', 'POY-similarity',\n",
      "            'pagerank', 'POY-last-similarity', 'POY']\n",
      "\n",
      "def _make_dataframe():\n",
      "    \"Closure function returns ne functions with specified FEATURES.\"\n",
      "    def make(persons):\n",
      "        return pd.DataFrame(index=persons, columns=FEATURES)\n",
      "    return make\n",
      "\n",
      "def timeline(dates, index):\n",
      "    date_index = pd.DatetimeIndex(dates)\n",
      "    # group the occurences by year\n",
      "    serie = pd.Series([1] * date_index.size, index=date_index).groupby(\n",
      "               lambda x: datetime(x.year, x.month, x.day)).sum()\n",
      "    # reindex so that missing years get a zero frequency\n",
      "    return serie.reindex(index, fill_value=0)\n",
      "\n",
      "make_dataframe = _make_dataframe()\n",
      "\n",
      "def features_in(year, persons=None):\n",
      "    documents, searcher = ISSUES_IN[year]\n",
      "    date_index = pd.DatetimeIndex(set(document['date'] for document in documents))\n",
      "    if persons is None:\n",
      "        persons = [person for person in documents.groups().keys()\n",
      "                   if not to_old(person, year) or include_anyway(person)]\n",
      "    _persons = set(persons)\n",
      "    df = make_dataframe(persons)\n",
      "    for person, articles in documents.groups().iteritems():\n",
      "        if person in _persons:\n",
      "            ts = timeline([searcher.stored_fields(doc)['date'] for doc in articles], \n",
      "                          date_index)\n",
      "            df['max-span'][person] = longest_time_span(ts, 0) / float(date_index.size)\n",
      "            df['frequency'][person] = len(articles)\n",
      "            topics = Counter(searcher.stored_fields(doc)['category'] for doc in articles) \n",
      "            df['topic-frequency'][person] = len(topics.keys())\n",
      "            df['topic-variance'][person] = topic_variation(topics.values())\n",
      "            df['frequency-burst'][person] = frequency_increase(year, person, len(articles))\n",
      "            #df['correlation-to-ppoy'][person] = correlation(timeline, year)\n",
      "            df['pagerank'][person] = PAGERANK[year][person] if person in PAGERANK[year] else 0.0\n",
      "            df['POY-last-year'][person] = POY_last_year(person, year)\n",
      "            df['POY-before'][person] = POY_before(person, year)\n",
      "            df['year-similarity'][person] = year_similarity(person, year)\n",
      "            df['POY-similarity'][person] = similarity_with_POYs(person, year)\n",
      "            df['POY-last-similarity'][person] = similarity_with_previous_POY(person, year)\n",
      "            df['POY'][person] = 1 if person in POY[year] else -1\n",
      "    return df, persons\n",
      "\n",
      "def extract_features(year, previous_y=True, next_y=False):\n",
      "    years = sorted(POY.keys())\n",
      "    current_df, persons = features_in(year)\n",
      "    \n",
      "    if previous_y:\n",
      "        # extract features for the previous (known) year\n",
      "        if years.index(year)-1 > -1:\n",
      "            previous_df, _ = features_in(years[years.index(year)-1], persons)\n",
      "        else:\n",
      "            previous_df = make_dataframe(persons)\n",
      "        current_df = previous_df.join(current_df, lsuffix='_previous')\n",
      "    \n",
      "    if next_y:\n",
      "        # extract features for the next (known) year    \n",
      "        if years.index(year)+1 < len(years):\n",
      "            next_df, _ = features_in(years[years.index(year)+1], persons)\n",
      "        else:\n",
      "            next_df = make_dataframe(persons)\n",
      "        current_df = current_df.join(next_df, rsuffix='_next')\n",
      "        \n",
      "    return current_df"
     ],
     "language": "python",
     "metadata": {},
     "outputs": [],
     "prompt_number": 206
    },
    {
     "cell_type": "markdown",
     "metadata": {},
     "source": [
      "The following table shows the feature values for the top 5 people sorted by their frequency counts in 1990:"
     ]
    },
    {
     "cell_type": "code",
     "collapsed": false,
     "input": [
      "df = extract_features(1990)"
     ],
     "language": "python",
     "metadata": {},
     "outputs": [],
     "prompt_number": 121
    },
    {
     "cell_type": "code",
     "collapsed": false,
     "input": [
      "df.sort_index(by='pagerank', ascending=False)[:5]"
     ],
     "language": "python",
     "metadata": {},
     "outputs": [
      {
       "html": [
        "<pre>\n",
        "&lt;class 'pandas.core.frame.DataFrame'&gt;\n",
        "Index: 5 entries, george_w._bush to saddam_hussein\n",
        "Data columns (total 24 columns):\n",
        "max-span_previous               5  non-null values\n",
        "frequency_previous              5  non-null values\n",
        "topic-frequency_previous        5  non-null values\n",
        "frequency-burst_previous        5  non-null values\n",
        "topic-variance_previous         5  non-null values\n",
        "POY-last-year_previous          5  non-null values\n",
        "POY-before_previous             5  non-null values\n",
        "year-similarity_previous        5  non-null values\n",
        "POY-similarity_previous         5  non-null values\n",
        "pagerank_previous               5  non-null values\n",
        "POY-last-similarity_previous    5  non-null values\n",
        "POY_previous                    5  non-null values\n",
        "max-span                        5  non-null values\n",
        "frequency                       5  non-null values\n",
        "topic-frequency                 5  non-null values\n",
        "frequency-burst                 5  non-null values\n",
        "topic-variance                  5  non-null values\n",
        "POY-last-year                   5  non-null values\n",
        "POY-before                      5  non-null values\n",
        "year-similarity                 5  non-null values\n",
        "POY-similarity                  5  non-null values\n",
        "pagerank                        5  non-null values\n",
        "POY-last-similarity             5  non-null values\n",
        "POY                             5  non-null values\n",
        "dtypes: object(24)\n",
        "</pre>"
       ],
       "metadata": {},
       "output_type": "pyout",
       "prompt_number": 126,
       "text": [
        "<class 'pandas.core.frame.DataFrame'>\n",
        "Index: 5 entries, george_w._bush to saddam_hussein\n",
        "Data columns (total 24 columns):\n",
        "max-span_previous               5  non-null values\n",
        "frequency_previous              5  non-null values\n",
        "topic-frequency_previous        5  non-null values\n",
        "frequency-burst_previous        5  non-null values\n",
        "topic-variance_previous         5  non-null values\n",
        "POY-last-year_previous          5  non-null values\n",
        "POY-before_previous             5  non-null values\n",
        "year-similarity_previous        5  non-null values\n",
        "POY-similarity_previous         5  non-null values\n",
        "pagerank_previous               5  non-null values\n",
        "POY-last-similarity_previous    5  non-null values\n",
        "POY_previous                    5  non-null values\n",
        "max-span                        5  non-null values\n",
        "frequency                       5  non-null values\n",
        "topic-frequency                 5  non-null values\n",
        "frequency-burst                 5  non-null values\n",
        "topic-variance                  5  non-null values\n",
        "POY-last-year                   5  non-null values\n",
        "POY-before                      5  non-null values\n",
        "year-similarity                 5  non-null values\n",
        "POY-similarity                  5  non-null values\n",
        "pagerank                        5  non-null values\n",
        "POY-last-similarity             5  non-null values\n",
        "POY                             5  non-null values\n",
        "dtypes: object(24)"
       ]
      }
     ],
     "prompt_number": 126
    },
    {
     "cell_type": "code",
     "collapsed": false,
     "input": [
      "from joblib import Parallel, delayed\n",
      "\n",
      "def extract(year):\n",
      "    df = extract_features(year)\n",
      "    if df['POY'].max() == 1:\n",
      "        df.to_csv(\"%s-beta.csv\" % year)\n",
      "    return True\n",
      "\n",
      "_ = Parallel(n_jobs=15)(delayed(extract)(year) for year in POY)"
     ],
     "language": "python",
     "metadata": {},
     "outputs": [
      {
       "output_type": "stream",
       "stream": "stderr",
       "text": [
        "-c:48: UnicodeWarning: Unicode equal comparison failed to convert both arguments to Unicode - interpreting them as being unequal\n",
        "-c:14: UnicodeWarning: Unicode equal comparison failed to convert both arguments to Unicode - interpreting them as being unequal\n",
        "-c:14: UnicodeWarning: Unicode equal comparison failed to convert both arguments to Unicode - interpreting them as being unequal\n",
        "-c:48: UnicodeWarning: Unicode equal comparison failed to convert both arguments to Unicode - interpreting them as being unequal\n",
        "-c:14: UnicodeWarning: Unicode equal comparison failed to convert both arguments to Unicode - interpreting them as being unequal\n",
        "-c:14: UnicodeWarning: Unicode equal comparison failed to convert both arguments to Unicode - interpreting them as being unequal\n",
        "-c:48: UnicodeWarning: Unicode equal comparison failed to convert both arguments to Unicode - interpreting them as being unequal\n",
        "-c:48: UnicodeWarning: Unicode equal comparison failed to convert both arguments to Unicode - interpreting them as being unequal\n"
       ]
      }
     ],
     "prompt_number": 128
    },
    {
     "cell_type": "markdown",
     "metadata": {},
     "source": [
      "On the basis of these individual csv files, we construct different test and training sets, where for each year we create a test set containing all documents from that year and as a training set all other years. Both the training data and the test data need to be in (sparse) rank SVM format."
     ]
    },
    {
     "cell_type": "code",
     "collapsed": false,
     "input": [
      "import os\n",
      "from itertools import izip\n",
      "\n",
      "FEATURES = ['max-span', 'frequency', 'topic-frequency', 'frequency-burst', 'topic-variance',\n",
      "            'POY-last-year', 'POY-before', 'year-similarity', 'POY-similarity',\n",
      "            'pagerank', 'POY-last-similarity', 'POY']\n",
      "feature_ids = {}\n",
      "features = FEATURES + [feature + '_previous' for feature in FEATURES]\n",
      "keep = ['max-span', 'frequency', 'topic-frequency', 'frequency-burst',\n",
      "        'topic-variance', 'year-similarity',\n",
      "        'POY-similarity', 'pagerank', 'POY-last-similarity',\n",
      "        'frequency_previous', 'topic-frequency_previous',\n",
      "        'topic-variance_previous',\n",
      "        'year-similarity_previous', 'POY-similarity_previous', 'pagerank_previous',\n",
      "        'POY-last-similarity_previous', 'POY_previous']\n",
      "#['frequency_previous', 'topic-variance_previous', 'POY_previous', \n",
      "# 'frequency', 'max-span', 'topic-frequency', 'year-similarity']\n",
      "not_included_features = [f for f in features if f not in keep]\n",
      "to_normalize = ['frequency_previous', 'frequency', 'topic-frequency']\n",
      "cutoff = 100\n",
      "for qid, year in enumerate(sorted(POY), 1):\n",
      "    if year > 2005:\n",
      "        break # TURN OFF WHEN WE HAVE MORE DATA!\n",
      "    if not os.path.exists(\"%s-beta.csv\" % year):\n",
      "        continue\n",
      "    dataframe = pd.read_csv(\"%s-beta.csv\" % year, index_col=0)\n",
      "    for feature in dataframe.columns:\n",
      "        if feature not in feature_ids:\n",
      "            feature_ids[feature] = len(feature_ids) + 1\n",
      "    dataframe = dataframe[dataframe['frequency'] >= dataframe.sort_index(\n",
      "        by='frequency', ascending=False)['frequency'][:cutoff].min()]\n",
      "    test_X, test_y = dataframe.drop(not_included_features, axis=1), dataframe['POY']\n",
      "    # apply normalization to some of the features.\n",
      "    #for feature in to_normalize:\n",
      "    #    test_X[feature] = test_X[feature].astype(float) / test_X[feature].sum()\n",
      "    test_X = test_X.apply(lambda x: x.astype(float) / x.sum(axis=1))\n",
      "    with open(\"%s-test-%s-beta.txt\" % (year, cutoff), \"w\") as testout:\n",
      "        for i, (person, df) in enumerate(test_X.iterrows()):\n",
      "            testout.write(\"%s qid:%s %s # %s\\n\" % (\n",
      "                str(0 if test_y[i] == -1 else 1), qid, ' '.join(\n",
      "                    \"%s:%s\" % (feature_ids[f], v) for f, v in izip(df.index, df.values) if\n",
      "                               not np.isnan(v) and not np.isinf(v) and v > 0), person))"
     ],
     "language": "python",
     "metadata": {},
     "outputs": [],
     "prompt_number": 232
    },
    {
     "cell_type": "code",
     "collapsed": false,
     "input": [
      "import glob\n",
      "import fileinput\n",
      "\n",
      "filenames = glob.glob(\"*-test-*-beta.txt\")\n",
      "for filename in filenames:\n",
      "    trainingfiles = set(filenames) - set([filename])\n",
      "    with open(filename.split('-')[0] + '-train-%s-beta.txt' % cutoff, 'w') as trainout:\n",
      "        for line in fileinput.input(trainingfiles):\n",
      "            trainout.write(line)"
     ],
     "language": "python",
     "metadata": {},
     "outputs": [],
     "prompt_number": 233
    },
    {
     "cell_type": "code",
     "collapsed": false,
     "input": [
      "from sklearn.ensemble import ExtraTreesClassifier\n",
      "\n",
      "training = pd.read_csv(\"1960-beta.csv\", index_col=0)\n",
      "X, y = training.drop(\"POY\", axis=1), training[\"POY\"]\n",
      "X = X.fillna(0)\n",
      "\n",
      "clf = ExtraTreesClassifier()\n",
      "X_new = clf.fit(X.values, y.values).transform(X.values)\n",
      "sorted(zip(X.columns, clf.feature_importances_), key=lambda i: i[1], reverse=True)"
     ],
     "language": "python",
     "metadata": {},
     "outputs": [
      {
       "metadata": {},
       "output_type": "pyout",
       "prompt_number": 179,
       "text": [
        "[('pagerank', 0.3267330456980776),\n",
        " ('POY-similarity', 0.11685856644959858),\n",
        " ('year-similarity', 0.098044806953270752),\n",
        " ('pagerank_previous', 0.082170611889853987),\n",
        " ('topic-frequency', 0.048626545014926061),\n",
        " ('POY-last-similarity', 0.045589002159842282),\n",
        " ('frequency_previous', 0.036476092498826017),\n",
        " ('POY-last-similarity_previous', 0.033942635710126276),\n",
        " ('frequency', 0.033734340232626711),\n",
        " ('max-span', 0.029695520929827763),\n",
        " ('frequency-burst', 0.028207623598824595),\n",
        " ('topic-frequency_previous', 0.024076292630211528),\n",
        " ('POY-similarity_previous', 0.023481102730764904),\n",
        " ('topic-variance', 0.02157559974962326),\n",
        " ('max-span_previous', 0.015259080054591959),\n",
        " ('year-similarity_previous', 0.012370002170374955),\n",
        " ('frequency-burst_previous', 0.010348316921631852),\n",
        " ('topic-variance_previous', 0.0089811138165352567),\n",
        " ('POY_previous', 0.0038091009522018245),\n",
        " ('POY-before_previous', 1.2779625930183604e-05),\n",
        " ('POY-before', 7.8202123336670417e-06),\n",
        " ('POY-last-year_previous', 0.0),\n",
        " ('POY-last-year', 0.0)]"
       ]
      }
     ],
     "prompt_number": 179
    },
    {
     "cell_type": "markdown",
     "metadata": {},
     "source": [
      "Now, we run the system for all years and compute the _Mean Average Precision_."
     ]
    },
    {
     "cell_type": "code",
     "collapsed": false,
     "input": [
      "shrinkage = 0.000001#3.1e-06\n",
      "scores = []\n",
      "for year in POY:\n",
      "    if year > 2005:\n",
      "        continue\n",
      "    print year\n",
      "    if not os.path.exists('%s-train-%s-beta.txt' % (year, cutoff)):\n",
      "        continue\n",
      "    trainingfile = '%s-train-%s-beta.txt' % (year, cutoff)\n",
      "    modelfile = '%s-model-%s-beta.txt' % (year, cutoff)\n",
      "    train_sofia(trainingfile, modelfile, shrinkage)\n",
      "    testfile = '%s-test-%s-beta.txt' % (year, cutoff)\n",
      "    resultsfile = '%s-results-%s-beta.txt' % (year, cutoff)\n",
      "    test_sofia(testfile, modelfile, resultsfile)\n",
      "    ap, top10, top5, top1 = compute_scores(resultsfile, testfile)\n",
      "    if ap > 0 or year == 2013:\n",
      "        scores.append((year, ap, top10, top5, top1))\n",
      "print 'MAP   : %.3f' % (sum(ap for _, ap, _, _, _ in scores) / len(scores),)\n",
      "print 'TOP 10: %.3f' % (sum(top10 for _, _, top10, _, _ in scores) / len(scores),)\n",
      "print 'TOP  5: %.3f' % (sum(top5 for _, _, _, top5, _ in scores) / len(scores),)\n",
      "print 'TOP  1: %.3f' % (sum(top1 for _, _, _, _, top1 in scores) / len(scores),)"
     ],
     "language": "python",
     "metadata": {},
     "outputs": [
      {
       "output_type": "stream",
       "stream": "stdout",
       "text": [
        "1927\n",
        "1:  calvin_coolidge \n",
        "2:  franklin_d._roosevelt \n",
        "3:  benito_mussolini \n",
        "4:  woodrow_wilson \n",
        "5:  henry_ford \n",
        "6:  theodore_roosevelt \n",
        "7:  warren_g._harding \n",
        "8:  charles_lindbergh *\n",
        "9:  herbert_hoover \n",
        "10:  william_howard_taft "
       ]
      },
      {
       "output_type": "stream",
       "stream": "stdout",
       "text": [
        "\n",
        "1928\n",
        "1:  herbert_hoover \n",
        "2:  charles_lindbergh \n",
        "3:  augustus \n",
        "4:  calvin_coolidge \n",
        "5:  elizabeth_ii \n",
        "6:  benito_mussolini \n",
        "7:  al_smith \n",
        "8:  woodrow_wilson \n",
        "9:  william_randolph_hearst \n",
        "10:  owen_d._young "
       ]
      },
      {
       "output_type": "stream",
       "stream": "stdout",
       "text": [
        "\n",
        "1929\n",
        "1:  owen_d._young *\n",
        "2:  charles_g._dawes \n",
        "3:  michael_owen \n",
        "4:  herbert_hoover \n",
        "5:  john_d._rockefeller \n",
        "6:  william_c._durant \n",
        "7:  elizabeth_ii \n",
        "8:  walter_chrysler \n",
        "9:  george_fisher_baker \n",
        "10:  george_eastman "
       ]
      },
      {
       "output_type": "stream",
       "stream": "stdout",
       "text": [
        "\n",
        "1930\n",
        "1:  herbert_hoover \n",
        "2:  owen_d._young \n",
        "3:  elizabeth_ii \n",
        "4:  mohandas_karamchand_gandhi *\n",
        "5:  andrew_carnegie \n",
        "6:  william_randolph_hearst \n",
        "7:  dwight_morrow \n",
        "8:  franklin_d._roosevelt \n",
        "9:  bertrand_russell \n",
        "10:  james_gordon_legge "
       ]
      },
      {
       "output_type": "stream",
       "stream": "stdout",
       "text": [
        "\n",
        "1931\n",
        "1:  mohandas_karamchand_gandhi \n",
        "2:  owen_d._young \n",
        "3:  elizabeth_ii \n",
        "4:  j._p._morgan \n",
        "5:  andrew_w._mellon \n",
        "6:  charles_g._dawes \n",
        "7:  al_capone \n",
        "8:  henry_ford \n",
        "9:  george_fisher_baker \n",
        "10:  woodrow_wilson "
       ]
      },
      {
       "output_type": "stream",
       "stream": "stdout",
       "text": [
        "\n",
        "1932\n",
        "1:  franklin_d._roosevelt *\n",
        "2:  herbert_hoover \n",
        "3:  john_nance_garner \n",
        "4:  owen_d._young \n",
        "5:  elizabeth_ii \n",
        "6:  samuel_insull \n",
        "7:  benito_mussolini \n",
        "8:  adolf_hitler \n",
        "9:  joseph_stalin \n",
        "10:  ivar_kreuger "
       ]
      },
      {
       "output_type": "stream",
       "stream": "stdout",
       "text": [
        "\n",
        "1933\n",
        "1:  adolf_hitler \n",
        "2:  franklin_d._roosevelt \n",
        "3:  benito_mussolini \n",
        "4:  cordell_hull \n",
        "5:  general_johnson \n",
        "6:  gerardo_machado \n",
        "7:  engelbert_dollfuss \n",
        "8:  w._hugh_woodin \n",
        "9:  owen_d._young \n",
        "10:  vincent_astor "
       ]
      },
      {
       "output_type": "stream",
       "stream": "stdout",
       "text": [
        "\n",
        "1934\n",
        "1:  franklin_d._roosevelt *\n",
        "2:  adolf_hitler \n",
        "3:  general_johnson \n",
        "4:  fiorello_la_guardia \n",
        "5:  benito_mussolini \n",
        "6:  john_dillinger \n",
        "7:  henry_ford \n",
        "8:  huey_long \n",
        "9:  hugh_samuel_johnson \n",
        "10:  harry_hopkins "
       ]
      },
      {
       "output_type": "stream",
       "stream": "stdout",
       "text": [
        "\n",
        "1935\n",
        "1:  benito_mussolini \n",
        "2:  elizabeth_ii \n",
        "3:  adolf_hitler \n",
        "4:  franklin_d._roosevelt \n",
        "5:  pierre_laval \n",
        "6:  joseph_stalin \n",
        "7:  j._p._morgan \n",
        "8:  henry_ford \n",
        "9:  george_washington \n",
        "10:  haile_selassie_i *"
       ]
      },
      {
       "output_type": "stream",
       "stream": "stdout",
       "text": [
        "\n",
        "1936\n",
        "1937\n",
        "1:  elizabeth_ii \n",
        "2:  francisco_franco \n",
        "3:  adolf_hitler \n",
        "4:  andrew_carnegie \n",
        "5:  john_l._lewis \n",
        "6:  henry_ford \n",
        "7:  benito_mussolini \n",
        "8:  franklin_d._roosevelt \n",
        "9:  leon_trotsky \n",
        "10:  augustus "
       ]
      },
      {
       "output_type": "stream",
       "stream": "stdout",
       "text": [
        "\n",
        "1938\n",
        "1:  adolf_hitler *\n",
        "2:  neville_chamberlain \n",
        "3:  francisco_franco \n",
        "4:  benito_mussolini \n",
        "5:  franklin_d._roosevelt \n",
        "6:  chiang_kai-shek \n",
        "7:  henry_ford \n",
        "8:  winston_churchill \n",
        "9:  harry_hopkins \n",
        "10:  elizabeth_ii "
       ]
      },
      {
       "output_type": "stream",
       "stream": "stdout",
       "text": [
        "\n",
        "1939\n",
        "1:  adolf_hitler \n",
        "2:  franklin_d._roosevelt \n",
        "3:  elizabeth_ii \n",
        "4:  neville_chamberlain \n",
        "5:  vyacheslav_molotov \n",
        "6:  woodrow_wilson \n",
        "7:  winston_churchill \n",
        "8:  joseph_goebbels \n",
        "9:  benito_mussolini \n",
        "10:  joseph_stalin *"
       ]
      },
      {
       "output_type": "stream",
       "stream": "stdout",
       "text": [
        "\n",
        "1940\n",
        "1:  adolf_hitler \n",
        "2:  wendell_willkie \n",
        "3:  winston_churchill *\n",
        "4:  henry_ford \n",
        "5:  charles_de_gaulle \n",
        "6:  franklin_d._roosevelt \n",
        "7:  john_j._pershing \n",
        "8:  carl_gustaf_emil_mannerheim \n",
        "9:  sumner_welles \n",
        "10:  woodrow_wilson "
       ]
      },
      {
       "output_type": "stream",
       "stream": "stdout",
       "text": [
        "\n",
        "1941\n",
        "1:  adolf_hitler \n",
        "2:  winston_churchill \n",
        "3:  franklin_d._roosevelt *\n",
        "4:  joseph_stalin \n",
        "5:  george_marshall \n",
        "6:  joseph_goebbels \n",
        "7:  harry_s._truman \n",
        "8:  chiang_kai-shek \n",
        "9:  john_j._pershing \n",
        "10:  woodrow_wilson "
       ]
      },
      {
       "output_type": "stream",
       "stream": "stdout",
       "text": [
        "\n",
        "1942\n",
        "1:  joseph_stilwell \n",
        "2:  jimmy_doolittle \n",
        "3:  claire_lee_chennault \n",
        "4:  franklin_d._roosevelt \n",
        "5:  henry_h._arnold \n",
        "6:  chester_w._nimitz \n",
        "7:  dwight_d._eisenhower \n",
        "8:  henry_j._kaiser \n",
        "9:  george_marshall \n",
        "10:  ernest_king "
       ]
      },
      {
       "output_type": "stream",
       "stream": "stdout",
       "text": [
        "\n",
        "1943\n",
        "1:  adolf_hitler \n",
        "2:  wendell_willkie \n",
        "3:  george_s._patton \n",
        "4:  henry_h._arnold \n",
        "5:  dwight_d._eisenhower \n",
        "6:  claire_lee_chennault \n",
        "7:  ira_c._eaker \n",
        "8:  pietro_badoglio \n",
        "9:  george_marshall *\n",
        "10:  charles_de_gaulle "
       ]
      },
      {
       "output_type": "stream",
       "stream": "stdout",
       "text": [
        "\n",
        "1944\n",
        "1:  charles_de_gaulle \n",
        "2:  dwight_d._eisenhower *\n",
        "3:  joseph_stalin \n",
        "4:  winston_churchill \n",
        "5:  george_marshall \n",
        "6:  thomas_e._dewey \n",
        "7:  george_s._patton \n",
        "8:  omar_bradley \n",
        "9:  adolf_hitler \n",
        "10:  josip_broz_tito "
       ]
      },
      {
       "output_type": "stream",
       "stream": "stdout",
       "text": [
        "\n",
        "1945\n",
        "1:  adolf_hitler \n",
        "2:  harry_s._truman *\n",
        "3:  georgy_zhukov \n",
        "4:  dwight_d._eisenhower \n",
        "5:  clement_attlee \n",
        "6:  george_s._patton \n",
        "7:  chester_w._nimitz \n",
        "8:  james_forrestal \n",
        "9:  joseph_stalin \n",
        "10:  charles_de_gaulle "
       ]
      },
      {
       "output_type": "stream",
       "stream": "stdout",
       "text": [
        "\n",
        "1946\n",
        "1:  harry_s._truman \n",
        "2:  josip_broz_tito \n",
        "3:  ernest_bevin \n",
        "4:  henry_a._wallace \n",
        "5:  john_l._lewis \n",
        "6:  earl_browder \n",
        "7:  elizabeth_ii \n",
        "8:  francisco_franco \n",
        "9:  william_randolph_hearst \n",
        "10:  bertrand_russell "
       ]
      },
      {
       "output_type": "stream",
       "stream": "stdout",
       "text": [
        "\n",
        "1947\n",
        "1:  harry_s._truman \n",
        "2:  george_marshall *\n",
        "3:  elizabeth_ii \n",
        "4:  mohandas_karamchand_gandhi \n",
        "5:  william_howard_taft \n",
        "6:  muhammad_ali_jinnah \n",
        "7:  jawaharlal_nehru \n",
        "8:  robert_r._young \n",
        "9:  clement_attlee \n",
        "10:  harold_stassen "
       ]
      },
      {
       "output_type": "stream",
       "stream": "stdout",
       "text": [
        "\n",
        "1948\n",
        "1:  harry_s._truman *\n",
        "2:  thomas_e._dewey \n",
        "3:  joseph_stalin \n",
        "4:  henry_a._wallace \n",
        "5:  lucius_d._clay \n",
        "6:  wendell_willkie \n",
        "7:  josip_broz_tito \n",
        "8:  franklin_d._roosevelt \n",
        "9:  harold_stassen \n",
        "10:  mohandas_karamchand_gandhi "
       ]
      },
      {
       "output_type": "stream",
       "stream": "stdout",
       "text": [
        "\n",
        "1949\n",
        "1:  harry_s._truman \n",
        "2:  dean_acheson \n",
        "3:  mao_zedong \n",
        "4:  louis_a._johnson \n",
        "5:  alger_hiss \n",
        "6:  josip_broz_tito \n",
        "7:  joseph_stalin \n",
        "8:  chiang_kai-shek \n",
        "9:  jawaharlal_nehru \n",
        "10:  bertrand_russell "
       ]
      },
      {
       "output_type": "stream",
       "stream": "stdout",
       "text": [
        "\n",
        "1951\n",
        "1:  harry_s._truman \n",
        "2:  dwight_d._eisenhower \n",
        "3:  estes_kefauver \n",
        "4:  mohammad_mosaddegh *\n",
        "5:  charles_erwin_wilson \n",
        "6:  matthew_ridgway \n",
        "7:  clement_attlee \n",
        "8:  mao_zedong \n",
        "9:  elizabeth_ii \n",
        "10:  alger_hiss "
       ]
      },
      {
       "output_type": "stream",
       "stream": "stdout",
       "text": [
        "\n",
        "1952\n",
        "1:  dwight_d._eisenhower \n",
        "2:  robert_louis_stevenson \n",
        "3:  william_howard_taft \n",
        "4:  bob_taft \n",
        "5:  harry_s._truman \n",
        "6:  hubert_humphrey \n",
        "7:  estes_kefauver \n",
        "8:  earl_warren \n",
        "9:  elizabeth_ii *\n",
        "10:  richard_nixon "
       ]
      },
      {
       "output_type": "stream",
       "stream": "stdout",
       "text": [
        "\n",
        "1953\n",
        "1:  dwight_d._eisenhower \n",
        "2:  harry_s._truman \n",
        "3:  elizabeth_ii \n",
        "4:  joseph_stalin \n",
        "5:  john_foster_dulles \n",
        "6:  charles_erwin_wilson \n",
        "7:  syngman_rhee \n",
        "8:  walt_disney \n",
        "9:  georgy_malenkov \n",
        "10:  george_washington "
       ]
      },
      {
       "output_type": "stream",
       "stream": "stdout",
       "text": [
        "\n",
        "1954\n",
        "1:  dwight_d._eisenhower \n",
        "2:  john_foster_dulles *\n",
        "3:  elizabeth_ii \n",
        "4:  ho_chi_minh \n",
        "5:  robert_r._young \n",
        "6:  j._robert_oppenheimer \n",
        "7:  lyndon_b._johnson \n",
        "8:  charles_erwin_wilson \n",
        "9:  harry_s._truman \n",
        "10:  carlos_castillo_armas "
       ]
      },
      {
       "output_type": "stream",
       "stream": "stdout",
       "text": [
        "\n",
        "1955\n",
        "1:  dwight_d._eisenhower \n",
        "2:  jonas_salk \n",
        "3:  nikita_khrushchev \n",
        "4:  nikolai_bulganin \n",
        "5:  marilyn_monroe \n",
        "6:  estes_kefauver \n",
        "7:  ngo_dinh_diem \n",
        "8:  elizabeth_ii \n",
        "9:  adolf_hitler \n",
        "10:  henry_ford "
       ]
      },
      {
       "output_type": "stream",
       "stream": "stdout",
       "text": [
        "\n",
        "1957\n",
        "1:  dwight_d._eisenhower \n",
        "2:  gamal_abdel_nasser \n",
        "3:  nikita_khrushchev *\n",
        "4:  john_foster_dulles \n",
        "5:  elizabeth_ii \n",
        "6:  john_f._kennedy \n",
        "7:  harold_macmillan \n",
        "8:  elvis_presley \n",
        "9:  charles_erwin_wilson \n",
        "10:  josip_broz_tito "
       ]
      },
      {
       "output_type": "stream",
       "stream": "stdout",
       "text": [
        "\n",
        "1958\n",
        "1:  charles_de_gaulle *\n",
        "2:  dwight_d._eisenhower \n",
        "3:  gamal_abdel_nasser \n",
        "4:  nikita_khrushchev \n",
        "5:  nelson_rockefeller \n",
        "6:  juscelino_kubitschek \n",
        "7:  fulgencio_batista \n",
        "8:  elizabeth_ii \n",
        "9:  jimmy_carter \n",
        "10:  john_f._kennedy "
       ]
      },
      {
       "output_type": "stream",
       "stream": "stdout",
       "text": [
        "\n",
        "1959\n",
        "1:  charles_de_gaulle \n",
        "2:  nikita_khrushchev \n",
        "3:  dwight_d._eisenhower *\n",
        "4:  fidel_castro \n",
        "5:  john_f._kennedy \n",
        "6:  pope_john_xxiii \n",
        "7:  fulgencio_batista \n",
        "8:  nelson_rockefeller \n",
        "9:  elizabeth_ii \n",
        "10:  harold_macmillan "
       ]
      },
      {
       "output_type": "stream",
       "stream": "stdout",
       "text": [
        "\n",
        "1960\n",
        "1:  john_f._kennedy \n",
        "2:  dwight_d._eisenhower \n",
        "3:  richard_nixon \n",
        "4:  charles_de_gaulle \n",
        "5:  lyndon_b._johnson \n",
        "6:  fidel_castro \n",
        "7:  nikita_khrushchev \n",
        "8:  nelson_rockefeller \n",
        "9:  robert_f._kennedy \n",
        "10:  estes_kefauver "
       ]
      },
      {
       "output_type": "stream",
       "stream": "stdout",
       "text": [
        "\n",
        "1961\n",
        "1:  john_f._kennedy *\n",
        "2:  fidel_castro \n",
        "3:  nikita_khrushchev \n",
        "4:  charles_de_gaulle \n",
        "5:  robert_f._kennedy \n",
        "6:  yuri_gagarin \n",
        "7:  dean_rusk \n",
        "8:  rafael_trujillo \n",
        "9:  pope_john_xxiii \n",
        "10:  ngo_dinh_diem "
       ]
      },
      {
       "output_type": "stream",
       "stream": "stdout",
       "text": [
        "\n",
        "1962\n",
        "1:  john_f._kennedy \n",
        "2:  fidel_castro \n",
        "3:  charles_de_gaulle \n",
        "4:  george_w._romney \n",
        "5:  john_glenn \n",
        "6:  robert_f._kennedy \n",
        "7:  pope_john_xxiii *\n",
        "8:  lyndon_b._johnson \n",
        "9:  richard_nixon \n",
        "10:  nikita_khrushchev "
       ]
      },
      {
       "output_type": "stream",
       "stream": "stdout",
       "text": [
        "\n",
        "1963\n",
        "1:  john_f._kennedy \n",
        "2:  charles_de_gaulle \n",
        "3:  robert_f._kennedy \n",
        "4:  fidel_castro \n",
        "5:  nikita_khrushchev \n",
        "6:  pope_john_xxiii \n",
        "7:  george_wallace \n",
        "8:  lyndon_b._johnson \n",
        "9:  ngo_dinh_diem \n",
        "10:  harold_macmillan "
       ]
      },
      {
       "output_type": "stream",
       "stream": "stdout",
       "text": [
        "\n",
        "1964\n",
        "1:  lyndon_b._johnson *\n",
        "2:  barry_goldwater \n",
        "3:  charles_de_gaulle \n",
        "4:  john_f._kennedy \n",
        "5:  robert_f._kennedy \n",
        "6:  elizabeth_ii \n",
        "7:  nelson_rockefeller \n",
        "8:  fidel_castro \n",
        "9:  george_wallace \n",
        "10:  lady_bird_johnson "
       ]
      },
      {
       "output_type": "stream",
       "stream": "stdout",
       "text": [
        "\n",
        "1965\n",
        "1:  lyndon_b._johnson \n",
        "2:  robert_f._kennedy \n",
        "3:  charles_de_gaulle \n",
        "4:  pope_john_xxiii \n",
        "5:  ho_chi_minh \n",
        "6:  harold_wilson \n",
        "7:  elizabeth_ii \n",
        "8:  hubert_humphrey \n",
        "9:  alexei_kosygin \n",
        "10:  john_lindsay "
       ]
      },
      {
       "output_type": "stream",
       "stream": "stdout",
       "text": [
        "\n",
        "1967\n",
        "1:  lyndon_b._johnson *\n",
        "2:  charles_de_gaulle \n",
        "3:  levi_eshkol \n",
        "4:  john_f._kennedy \n",
        "5:  moshe_dayan \n",
        "6:  gamal_abdel_nasser \n",
        "7:  mao_zedong \n",
        "8:  ho_chi_minh \n",
        "9:  william_westmoreland \n",
        "10:  stokely_carmichael "
       ]
      },
      {
       "output_type": "stream",
       "stream": "stdout",
       "text": [
        "\n",
        "1968\n",
        "1:  lyndon_b._johnson \n",
        "2:  richard_nixon \n",
        "3:  robert_f._kennedy \n",
        "4:  charles_de_gaulle \n",
        "5:  hubert_humphrey \n",
        "6:  john_f._kennedy \n",
        "7:  nelson_rockefeller \n",
        "8:  martin_luther_king \n",
        "9:  george_wallace \n",
        "10:  ho_chi_minh "
       ]
      },
      {
       "output_type": "stream",
       "stream": "stdout",
       "text": [
        "\n",
        "1970\n",
        "1:  richard_nixon \n",
        "2:  spiro_agnew \n",
        "3:  john_n._mitchell \n",
        "4:  golda_meir \n",
        "5:  salvador_allende \n",
        "6:  melvin_r._laird \n",
        "7:  willy_brandt *\n",
        "8:  lon_nol \n",
        "9:  warren_e._burger \n",
        "10:  j._edgar_hoover "
       ]
      },
      {
       "output_type": "stream",
       "stream": "stdout",
       "text": [
        "\n",
        "1971\n",
        "1:  richard_nixon *\n",
        "2:  anwar_el_sadat \n",
        "3:  daniel_ellsberg \n",
        "4:  henry_kissinger \n",
        "5:  robert_f._kennedy \n",
        "6:  salvador_allende \n",
        "7:  mao_zedong \n",
        "8:  gerald_ford \n",
        "9:  john_connally \n",
        "10:  jimmy_carter "
       ]
      },
      {
       "output_type": "stream",
       "stream": "stdout",
       "text": [
        "\n",
        "1972\n",
        "1:  richard_nixon *\n",
        "2:  john_f._kennedy \n",
        "3:  henry_kissinger *\n",
        "4:  richard_kleindienst \n",
        "5:  leonid_brezhnev \n",
        "6:  george_wallace \n",
        "7:  nelson_rockefeller \n",
        "8:  john_ehrlichman \n",
        "9:  jimmy_carter \n",
        "10:  john_n._mitchell "
       ]
      },
      {
       "output_type": "stream",
       "stream": "stdout",
       "text": [
        "\n",
        "1973\n",
        "1:  henry_kissinger \n",
        "2:  archibald_cox \n",
        "3:  john_sirica *\n",
        "4:  john_dean \n",
        "5:  sam_ervin \n",
        "6:  daniel_ellsberg \n",
        "7:  anwar_el_sadat \n",
        "8:  salvador_allende \n",
        "9:  g._gordon_liddy \n",
        "10:  john_ehrlichman "
       ]
      },
      {
       "output_type": "stream",
       "stream": "stdout",
       "text": [
        "\n",
        "1974\n",
        "1:  gerald_ford \n",
        "2:  richard_nixon \n",
        "3:  john_f._kennedy \n",
        "4:  john_sirica \n",
        "5:  henry_kissinger \n",
        "6:  anwar_el_sadat \n",
        "7:  jimmy_carter \n",
        "8:  leon_jaworski \n",
        "9:  faisal_of_saudi_arabia *\n",
        "10:  leonid_brezhnev "
       ]
      },
      {
       "output_type": "stream",
       "stream": "stdout",
       "text": [
        "\n",
        "1975\n",
        "1:  gerald_ford \n",
        "2:  anwar_el_sadat \n",
        "3:  henry_kissinger \n",
        "4:  leonid_brezhnev \n",
        "5:  faisal_of_saudi_arabia \n",
        "6:  indira_gandhi \n",
        "7:  salvador_allende \n",
        "8:  jimmy_carter \n",
        "9:  lon_nol \n",
        "10:  norodom_sihanouk "
       ]
      },
      {
       "output_type": "stream",
       "stream": "stdout",
       "text": [
        "\n",
        "1976\n",
        "1:  jimmy_carter *\n",
        "2:  ronald_reagan \n",
        "3:  walter_mondale \n",
        "4:  jerry_brown \n",
        "5:  george_wallace \n",
        "6:  hubert_humphrey \n",
        "7:  john_connally \n",
        "8:  rosalynn_carter \n",
        "9:  anwar_el_sadat \n",
        "10:  nancy_reagan "
       ]
      },
      {
       "output_type": "stream",
       "stream": "stdout",
       "text": [
        "\n",
        "1977\n",
        "1:  jimmy_carter \n",
        "2:  anwar_el_sadat *\n",
        "3:  menachem_begin \n",
        "4:  bert_lance \n",
        "5:  cyrus_vance \n",
        "6:  moshe_dayan \n",
        "7:  yasser_arafat \n",
        "8:  charles_schultze \n",
        "9:  shimon_peres \n",
        "10:  leonid_brezhnev "
       ]
      },
      {
       "output_type": "stream",
       "stream": "stdout",
       "text": [
        "\n",
        "1978\n",
        "1979\n",
        "1:  ruhollah_khomeini *\n",
        "2:  mohammad_reza_pahlavi \n",
        "3:  anwar_el_sadat \n",
        "4:  pope_john_paul_ii \n",
        "5:  deng_xiaoping \n",
        "6:  jimmy_carter \n",
        "7:  margaret_thatcher \n",
        "8:  leonid_brezhnev \n",
        "9:  pol_pot \n",
        "10:  ronald_reagan "
       ]
      },
      {
       "output_type": "stream",
       "stream": "stdout",
       "text": [
        "\n",
        "1980\n",
        "1:  jimmy_carter \n",
        "2:  ronald_reagan *\n",
        "3:  pope_john_paul_ii \n",
        "4:  john_b._anderson \n",
        "5:  john_f._kennedy \n",
        "6:  ruhollah_khomeini \n",
        "7:  anwar_el_sadat \n",
        "8:  abulhassan_banisadr \n",
        "9:  george_h._w._bush \n",
        "10:  margaret_thatcher "
       ]
      },
      {
       "output_type": "stream",
       "stream": "stdout",
       "text": [
        "\n",
        "1981\n",
        "1983\n",
        "1:  yuri_andropov *\n",
        "2:  ronald_reagan \n",
        "3:  jimmy_carter \n",
        "4:  george_p._shultz \n",
        "5:  helmut_kohl \n",
        "6:  pope_john_paul_ii \n",
        "7:  yasuhiro_nakasone \n",
        "8:  margaret_thatcher \n",
        "9:  caspar_weinberger \n",
        "10:  walter_mondale "
       ]
      },
      {
       "output_type": "stream",
       "stream": "stdout",
       "text": [
        "\n",
        "1984\n",
        "1:  walter_mondale \n",
        "2:  ronald_reagan \n",
        "3:  jimmy_carter \n",
        "4:  jesse_jackson \n",
        "5:  geraldine_ferraro \n",
        "6:  konstantin_chernenko \n",
        "7:  pope_john_paul_ii \n",
        "8:  michael_jackson \n",
        "9:  daniel_ortega \n",
        "10:  margaret_thatcher "
       ]
      },
      {
       "output_type": "stream",
       "stream": "stdout",
       "text": [
        "\n",
        "1985\n",
        "1:  mikhail_gorbachev \n",
        "2:  ronald_reagan \n",
        "3:  pope_john_paul_ii \n",
        "4:  margaret_thatcher \n",
        "5:  jimmy_carter \n",
        "6:  lee_iacocca \n",
        "7:  george_p._shultz \n",
        "8:  nelson_mandela \n",
        "9:  carl_icahn \n",
        "10:  james_baker "
       ]
      },
      {
       "output_type": "stream",
       "stream": "stdout",
       "text": [
        "\n",
        "1986\n",
        "1:  corazon_aquino *\n",
        "2:  mikhail_gorbachev \n",
        "3:  margaret_thatcher \n",
        "4:  ferdinand_marcos \n",
        "5:  nelson_mandela \n",
        "6:  ronald_reagan \n",
        "7:  imelda_marcos \n",
        "8:  lee_iacocca \n",
        "9:  jacques_chirac \n",
        "10:  p._w._botha "
       ]
      },
      {
       "output_type": "stream",
       "stream": "stdout",
       "text": [
        "\n",
        "1987\n",
        "1:  daniel_ortega \n",
        "2:  pope_john_paul_ii \n",
        "3:  jim_bakker \n",
        "4:  robert_bork \n",
        "5:  oliver_north \n",
        "6:  michael_dukakis \n",
        "7:  jim_wright \n",
        "8:  pat_robertson \n",
        "9:  frank_carlucci \n",
        "10:  richard_corliss "
       ]
      },
      {
       "output_type": "stream",
       "stream": "stdout",
       "text": [
        "\n",
        "1989\n",
        "1:  george_w._bush \n",
        "2:  george_h._w._bush \n",
        "3:  deng_xiaoping \n",
        "4:  mikhail_gorbachev *\n",
        "5:  scott_brown \n",
        "6:  dan_quayle \n",
        "7:  pope_john_paul_ii \n",
        "8:  donald_trump \n",
        "9:  leonid_brezhnev \n",
        "10:  margaret_thatcher "
       ]
      },
      {
       "output_type": "stream",
       "stream": "stdout",
       "text": [
        "\n",
        "1990\n",
        "1:  dianne_feinstein \n",
        "2:  nelson_mandela \n",
        "3:  saddam_hussein \n",
        "4:  melinda_gates \n",
        "5:  donald_trump \n",
        "6:  dick_cheney \n",
        "7:  boris_yeltsin \n",
        "8:  helmut_kohl \n",
        "9:  ferdinand_marcos \n",
        "10:  hosni_mubarak "
       ]
      },
      {
       "output_type": "stream",
       "stream": "stdout",
       "text": [
        "\n",
        "1991\n",
        "1:  saddam_hussein \n",
        "2:  melinda_gates \n",
        "3:  boris_yeltsin \n",
        "4:  arnold_schwarzenegger \n",
        "5:  clarence_thomas \n",
        "6:  pete_wilson \n",
        "7:  donald_trump \n",
        "8:  anita_hill \n",
        "9:  robert_gates \n",
        "10:  dan_quayle "
       ]
      },
      {
       "output_type": "stream",
       "stream": "stdout",
       "text": [
        "\n",
        "1992\n",
        "1:  bill_clinton *\n",
        "2:  ross_perot \n",
        "3:  hillary_rodham_clinton \n",
        "4:  boris_yeltsin \n",
        "5:  george_h._w._bush \n",
        "6:  gennifer_flowers \n",
        "7:  george_w._bush \n",
        "8:  jack_kemp \n",
        "9:  pete_wilson \n",
        "10:  pat_buchanan "
       ]
      },
      {
       "output_type": "stream",
       "stream": "stdout",
       "text": [
        "\n",
        "1993\n",
        "1:  bill_clinton \n",
        "2:  hillary_rodham_clinton \n",
        "3:  janet_reno \n",
        "4:  arnold_schwarzenegger \n",
        "5:  bob_dole \n",
        "6:  warren_christopher \n",
        "7:  david_gergen \n",
        "8:  lloyd_bentsen \n",
        "9:  david_koresh \n",
        "10:  ruth_bader_ginsburg "
       ]
      },
      {
       "output_type": "stream",
       "stream": "stdout",
       "text": [
        "\n",
        "1994\n",
        "1:  newt_gingrich \n",
        "2:  pete_wilson \n",
        "3:  nelson_mandela \n",
        "4:  aldrich_ames \n",
        "5:  mario_cuomo \n",
        "6:  vince_foster \n",
        "7:  dan_quayle \n",
        "8:  kim_il-sung \n",
        "9:  christopher_john_farley \n",
        "10:  richard_schickel "
       ]
      },
      {
       "output_type": "stream",
       "stream": "stdout",
       "text": [
        "\n",
        "1995\n",
        "1:  bill_clinton \n",
        "2:  newt_gingrich *\n",
        "3:  bob_dole \n",
        "4:  richard_holbrooke \n",
        "5:  rupert_murdoch \n",
        "6:  ted_kaczynski \n",
        "7:  jacques_chirac \n",
        "8:  bill_gates \n",
        "9:  ted_turner \n",
        "10:  mike_tyson "
       ]
      },
      {
       "output_type": "stream",
       "stream": "stdout",
       "text": [
        "\n",
        "1996\n",
        "1997\n",
        "1:  bill_clinton \n",
        "2:  bill_gates \n",
        "3:  tony_blair \n",
        "4:  rupert_murdoch \n",
        "5:  warren_buffett \n",
        "6:  mike_tyson \n",
        "7:  george_soros \n",
        "8:  tiger_woods \n",
        "9:  paula_jones \n",
        "10:  hillary_rodham_clinton "
       ]
      },
      {
       "output_type": "stream",
       "stream": "stdout",
       "text": [
        "\n",
        "1998\n",
        "1:  monica_lewinsky \n",
        "2:  ken_starr *\n",
        "3:  monica_(entertainer) \n",
        "4:  bill_gates \n",
        "5:  linda_tripp \n",
        "6:  joel_stein \n",
        "7:  paula_jones \n",
        "8:  kofi_annan \n",
        "9:  tony_blair \n",
        "10:  pope_john_paul_ii "
       ]
      },
      {
       "output_type": "stream",
       "stream": "stdout",
       "text": [
        "\n",
        "1999\n",
        "1:  george_w._bush \n",
        "2:  jeff_bezos *\n",
        "3:  bill_clinton \n",
        "4:  bill_bradley \n",
        "5:  bill_gates \n",
        "6:  joel_stein \n",
        "7:  tony_blair \n",
        "8:  rudy_giuliani \n",
        "9:  bob_dylan \n",
        "10:  donald_trump "
       ]
      },
      {
       "output_type": "stream",
       "stream": "stdout",
       "text": [
        "\n",
        "2000\n",
        "1:  george_w._bush *\n",
        "2:  hillary_rodham_clinton \n",
        "3:  dick_cheney \n",
        "4:  britney_spears \n",
        "5:  vladimir_putin \n",
        "6:  tony_blair \n",
        "7:  joe_lieberman \n",
        "8:  lev_grossman \n",
        "9:  ehud_barak \n",
        "10:  rudy_giuliani "
       ]
      },
      {
       "output_type": "stream",
       "stream": "stdout",
       "text": [
        "\n",
        "2001\n",
        "1:  george_w._bush \n",
        "2:  john_ashcroft \n",
        "3:  donald_rumsfeld \n",
        "4:  mohamed_atta \n",
        "5:  dick_cheney \n",
        "6:  pervez_musharraf \n",
        "7:  lev_grossman \n",
        "8:  zacarias_moussaoui \n",
        "9:  hamid_karzai \n",
        "10:  tony_blair "
       ]
      },
      {
       "output_type": "stream",
       "stream": "stdout",
       "text": [
        "\n",
        "2002\n",
        "1:  george_w._bush \n",
        "2:  hamid_karzai \n",
        "3:  kenneth_lay \n",
        "4:  lev_grossman \n",
        "5:  zacarias_moussaoui \n",
        "6:  pervez_musharraf \n",
        "7:  saddam_hussein \n",
        "8:  sherron_watkins *\n",
        "9:  jeb_bush \n",
        "10:  rebecca_winters "
       ]
      },
      {
       "output_type": "stream",
       "stream": "stdout",
       "text": [
        "\n",
        "2004\n",
        "1:  john_kerry \n",
        "2:  george_w._bush *\n",
        "3:  saddam_hussein \n",
        "4:  michael_moore \n",
        "5:  howard_dean \n",
        "6:  arnold_schwarzenegger \n",
        "7:  tony_blair \n",
        "8:  karl_rove \n",
        "9:  martha_stewart \n",
        "10:  rush_limbaugh "
       ]
      },
      {
       "output_type": "stream",
       "stream": "stdout",
       "text": [
        "\n",
        "2005\n",
        "1:  george_w._bush \n",
        "2:  pope_john_paul_ii \n",
        "3:  angelina_jolie \n",
        "4:  michael_jackson \n",
        "5:  tony_blair \n",
        "6:  hillary_rodham_clinton \n",
        "7:  bono *\n",
        "8:  angela_merkel \n",
        "9:  mahmoud_abbas \n",
        "10:  rudy_giuliani "
       ]
      },
      {
       "output_type": "stream",
       "stream": "stdout",
       "text": [
        "\n",
        "MAP   : 0.429\n",
        "TOP 10: 0.726\n",
        "TOP  5: 0.565\n",
        "TOP  1: 0.274\n"
       ]
      }
     ],
     "prompt_number": 234
    },
    {
     "cell_type": "code",
     "collapsed": false,
     "input": [
      "years, aps, top10s, top5s, top1s = zip(*[score for score in scores if score[0] < 2006])\n",
      "score_serie = pd.Series(aps, index=map(lambda year: datetime(year, 1, 1), years))\n",
      "score_serie.plot(style='d', ylim=(-0.1, 1.1))"
     ],
     "language": "python",
     "metadata": {},
     "outputs": [
      {
       "metadata": {},
       "output_type": "pyout",
       "prompt_number": 235,
       "text": [
        "<matplotlib.axes.AxesSubplot at 0x38f062d0>"
       ]
      },
      {
       "metadata": {},
       "output_type": "display_data",
       "png": "[encoded data removed]",
       "text": [
        "<matplotlib.figure.Figure at 0x39214550>"
       ]
      }
     ],
     "prompt_number": 235
    },
    {
     "cell_type": "code",
     "collapsed": false,
     "input": [
      "df = pd.read_csv(\"1962-beta.csv\", index_col=0)\n",
      "[(df.columns.get_loc(f)+1, f) for f in df.columns]"
     ],
     "language": "python",
     "metadata": {},
     "outputs": [
      {
       "metadata": {},
       "output_type": "pyout",
       "prompt_number": 165,
       "text": [
        "[(1, 'max-span_previous'),\n",
        " (2, 'frequency_previous'),\n",
        " (3, 'topic-frequency_previous'),\n",
        " (4, 'frequency-burst_previous'),\n",
        " (5, 'topic-variance_previous'),\n",
        " (6, 'POY-last-year_previous'),\n",
        " (7, 'POY-before_previous'),\n",
        " (8, 'year-similarity_previous'),\n",
        " (9, 'POY-similarity_previous'),\n",
        " (10, 'pagerank_previous'),\n",
        " (11, 'POY-last-similarity_previous'),\n",
        " (12, 'POY_previous'),\n",
        " (13, 'max-span'),\n",
        " (14, 'frequency'),\n",
        " (15, 'topic-frequency'),\n",
        " (16, 'frequency-burst'),\n",
        " (17, 'topic-variance'),\n",
        " (18, 'POY-last-year'),\n",
        " (19, 'POY-before'),\n",
        " (20, 'year-similarity'),\n",
        " (21, 'POY-similarity'),\n",
        " (22, 'pagerank'),\n",
        " (23, 'POY-last-similarity'),\n",
        " (24, 'POY')]"
       ]
      }
     ],
     "prompt_number": 165
    },
    {
     "cell_type": "code",
     "collapsed": false,
     "input": [
      "['max-span', 'frequency', 'topic-frequency', 'topic-variance', 'POY-last-year', \n",
      " 'POY-before', 'year-similarity', 'POY-similarity', 'POY-last-similarity', \n",
      " 'max-span_previous', 'frequency_previous', 'topic-frequency_previous', \n",
      " 'topic-variance_previous', 'POY-last-year_previous', 'POY-before_previous', \n",
      " 'year-similarity_previous', 'POY-similarity_previous', 'POY-last-similarity_previous', \n",
      " 'POY_previous']"
     ],
     "language": "python",
     "metadata": {},
     "outputs": []
    },
    {
     "cell_type": "code",
     "collapsed": false,
     "input": [
      "df = extract_features(2013)"
     ],
     "language": "python",
     "metadata": {},
     "outputs": [],
     "prompt_number": 207
    },
    {
     "cell_type": "code",
     "collapsed": false,
     "input": [
      "df.to_csv(\"2013-beta.csv\")"
     ],
     "language": "python",
     "metadata": {},
     "outputs": [],
     "prompt_number": 208
    },
    {
     "cell_type": "markdown",
     "metadata": {},
     "source": [
      "---"
     ]
    },
    {
     "cell_type": "code",
     "collapsed": false,
     "input": [
      "from IPython.core.display import HTML\n",
      "def css_styling():\n",
      "    styles = open(\"styles/custom.css\", \"r\").read()\n",
      "    return HTML(styles)\n",
      "css_styling()"
     ],
     "language": "python",
     "metadata": {},
     "outputs": [
      {
       "html": [
        "<style>\n",
        "    @font-face {\n",
        "        font-family: \"Computer Modern\";\n",
        "        src: url('http://mirrors.ctan.org/fonts/cm-unicode/fonts/otf/cmunss.otf');\n",
        "    }\n",
        "    div.cell{\n",
        "        width:800px;\n",
        "        margin-left:16% !important;\n",
        "        margin-right:auto;\n",
        "    }\n",
        "    h1 {\n",
        "        font-family: Helvetica, serif;\n",
        "    }\n",
        "    h4{\n",
        "        margin-top:12px;\n",
        "        margin-bottom: 3px;\n",
        "       }\n",
        "    div.text_cell_render{\n",
        "        font-family: Computer Modern, \"Helvetica Neue\", Arial, Helvetica, Geneva, sans-serif;\n",
        "        line-height: 145%;\n",
        "        font-size: 130%;\n",
        "        width:800px;\n",
        "        margin-left:auto;\n",
        "        margin-right:auto;\n",
        "    }\n",
        "    .CodeMirror{\n",
        "            font-family: \"Source Code Pro\", source-code-pro,Consolas, monospace;\n",
        "    }\n",
        "    .prompt{\n",
        "        display: None;\n",
        "    }\n",
        "    .text_cell_render h5 {\n",
        "        font-weight: 300;\n",
        "        font-size: 22pt;\n",
        "        color: #4057A1;\n",
        "        font-style: italic;\n",
        "        margin-bottom: .5em;\n",
        "        margin-top: 0.5em;\n",
        "        display: block;\n",
        "    }\n",
        "    \n",
        "    .warning{\n",
        "        color: rgb( 240, 20, 20 )\n",
        "        }  \n",
        "</style>\n",
        "<script>\n",
        "    MathJax.Hub.Config({\n",
        "                        TeX: {\n",
        "                           extensions: [\"AMSmath.js\"]\n",
        "                           },\n",
        "                tex2jax: {\n",
        "                    inlineMath: [ ['$','$'], [\"\\\\(\",\"\\\\)\"] ],\n",
        "                    displayMath: [ ['$$','$$'], [\"\\\\[\",\"\\\\]\"] ]\n",
        "                },\n",
        "                displayAlign: 'center', // Change this to 'center' to center equations.\n",
        "                \"HTML-CSS\": {\n",
        "                    styles: {'.MathJax_Display': {\"margin\": 4}}\n",
        "                }\n",
        "        });\n",
        "</script>"
       ],
       "metadata": {},
       "output_type": "pyout",
       "prompt_number": 68,
       "text": [
        "<IPython.core.display.HTML at 0x6e47d90>"
       ]
      }
     ],
     "prompt_number": 68
    }
   ],
   "metadata": {}
  }
 ]
}